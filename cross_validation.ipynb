{
 "cells": [
  {
   "cell_type": "markdown",
   "id": "personal-florence",
   "metadata": {},
   "source": [
    "## replicate tops cross validation pipeline"
   ]
  },
  {
   "cell_type": "markdown",
   "id": "driving-narrow",
   "metadata": {},
   "source": [
    "Model selection in the tops paper used multiple criterias to test for \n",
    "* model sensitivity (CV)\n",
    "* model specificity (CV)\n",
    "\n",
    "in 2 datasets\n",
    "* test dataset of study 1 (the original dataset used to train the model)\n",
    "* an independent dataset with identical aqcuisition to study1\n",
    "\n",
    "then summarised all these metrics into a single metric to determine the best fit model."
   ]
  },
  {
   "cell_type": "markdown",
   "id": "broad-prediction",
   "metadata": {},
   "source": [
    "### load dcc matrix and ratings"
   ]
  },
  {
   "cell_type": "code",
   "execution_count": 18,
   "id": "overhead-north",
   "metadata": {},
   "outputs": [],
   "source": [
    "import numpy as np\n",
    "import pandas as pd\n",
    "import pickle\n",
    "import matplotlib.pyplot as plt"
   ]
  },
  {
   "cell_type": "code",
   "execution_count": 86,
   "id": "excess-bathroom",
   "metadata": {},
   "outputs": [],
   "source": [
    "dat = pickle.load(open('study3_reduced.p','rb'))"
   ]
  },
  {
   "cell_type": "markdown",
   "id": "transparent-controversy",
   "metadata": {},
   "source": [
    "study 3 has 4 sets of data with 48 subjects:\n",
    "* capsaicin pain (CAPS)\n",
    "* control with no pain (REST)\n",
    "* quinine aversive taste (QUIN)\n",
    "* aversive odor (ODOR)\n",
    "\n",
    "The pain/aversive ratings and DCC functional connectivity matrices were provided by the authors. For computing efficency, the matrices were reduced (downsampled every 10 values)."
   ]
  },
  {
   "cell_type": "code",
   "execution_count": 87,
   "id": "popular-importance",
   "metadata": {},
   "outputs": [],
   "source": [
    "data = {}\n",
    "for key, item in dat.items():\n",
    "    dat_tmp = item\n",
    "    for key_cond, item_cond in item.items():\n",
    "#         print(key, key_cond)\n",
    "        data[key+'_'+key_cond] = np.array(item_cond)"
   ]
  },
  {
   "cell_type": "code",
   "execution_count": 88,
   "id": "broad-atlanta",
   "metadata": {},
   "outputs": [
    {
     "data": {
      "text/plain": [
       "(48, 10)"
      ]
     },
     "execution_count": 88,
     "metadata": {},
     "output_type": "execute_result"
    }
   ],
   "source": [
    "data['pain_REST'].shape"
   ]
  },
  {
   "cell_type": "markdown",
   "id": "chinese-hebrew",
   "metadata": {},
   "source": [
    "Plotting ratings from 4 datasets"
   ]
  },
  {
   "cell_type": "code",
   "execution_count": 89,
   "id": "described-beverage",
   "metadata": {},
   "outputs": [
    {
     "data": {
      "text/plain": [
       "<matplotlib.legend.Legend at 0x7fd7bc1cb430>"
      ]
     },
     "execution_count": 89,
     "metadata": {},
     "output_type": "execute_result"
    },
    {
     "data": {
      "image/png": "[encoded data removed]",
      "text/plain": [
       "<Figure size 432x288 with 1 Axes>"
      ]
     },
     "metadata": {
      "needs_background": "light"
     },
     "output_type": "display_data"
    }
   ],
   "source": [
    "conds = ['REST', 'CAPS', 'QUIN', 'ODOR']\n",
    "for c in conds:\n",
    "    key = 'pain_'+c\n",
    "    _ = plt.errorbar(np.arange(0,10), np.mean(data[key],axis=0), np.std(data[key],axis=0), label=c)\n",
    "plt.legend()"
   ]
  },
  {
   "cell_type": "markdown",
   "id": "excellent-ozone",
   "metadata": {},
   "source": [
    "### model training\n",
    "we use half the subjects (n=24) for training, leaving the rest for testing (pretending it's a validation study like study 2). Like in the paper, we train with CAPS and REST conditions by concatenating them."
   ]
  },
  {
   "cell_type": "code",
   "execution_count": 245,
   "id": "joined-programming",
   "metadata": {},
   "outputs": [],
   "source": [
    "data_train = {}\n",
    "data_test = {}\n",
    "for key, item in data.items():\n",
    "    data_train[key] = item[:24,:]\n",
    "    data_test[key] = item[24:,:]"
   ]
  },
  {
   "cell_type": "code",
   "execution_count": 246,
   "id": "center-central",
   "metadata": {},
   "outputs": [
    {
     "data": {
      "text/plain": [
       "(48, 388, 10)"
      ]
     },
     "execution_count": 246,
     "metadata": {},
     "output_type": "execute_result"
    }
   ],
   "source": [
    "data['dcc_reduced_REST'].shape"
   ]
  },
  {
   "cell_type": "code",
   "execution_count": 247,
   "id": "genetic-pacific",
   "metadata": {},
   "outputs": [
    {
     "data": {
      "text/plain": [
       "(24, 388, 10)"
      ]
     },
     "execution_count": 247,
     "metadata": {},
     "output_type": "execute_result"
    }
   ],
   "source": [
    "data_train['dcc_reduced_REST'].shape"
   ]
  },
  {
   "cell_type": "markdown",
   "id": "realistic-amsterdam",
   "metadata": {},
   "source": [
    "We use PCA to reduce each DCC FC matrix to a reduced number of PCs, and train a regression model with these PCs (PCR). Since we can use an arbitrary number of PCs, this is our hyperparameter we'll optimise with a set of criteria."
   ]
  },
  {
   "cell_type": "code",
   "execution_count": 248,
   "id": "tired-burns",
   "metadata": {},
   "outputs": [],
   "source": [
    "# combining CAPS and REST (study1)\n",
    "data1 = {}\n",
    "data1['dcc'] = np.concatenate([data_train['dcc_reduced_CAPS'],data_train['dcc_reduced_REST']], axis=2)\n",
    "data1['rate'] = np.concatenate([data_train['pain_CAPS'],data_train['pain_REST']], axis=1)"
   ]
  },
  {
   "cell_type": "code",
   "execution_count": 249,
   "id": "aboriginal-rogers",
   "metadata": {},
   "outputs": [],
   "source": [
    "# combining CAPS and REST (study2)\n",
    "data2 = {}\n",
    "data2['dcc'] = np.concatenate([data_test['dcc_reduced_CAPS'],data_test['dcc_reduced_REST']], axis=2)\n",
    "data2['rate'] = np.concatenate([data_test['pain_CAPS'],data_test['pain_REST']], axis=1)"
   ]
  },
  {
   "cell_type": "code",
   "execution_count": 250,
   "id": "automated-coach",
   "metadata": {},
   "outputs": [],
   "source": [
    "from sklearn.model_selection import KFold\n",
    "from sklearn import linear_model\n",
    "from sklearn.metrics import mean_squared_error, r2_score"
   ]
  },
  {
   "cell_type": "markdown",
   "id": "broad-interference",
   "metadata": {},
   "source": [
    "### Criterion 1: within-individual prediction (study1)\n",
    "\n",
    "Calculate Pearson's correlation values between actual and predicted ratings for each participant, then average the correlation coefficients to obtain 1 value per model."
   ]
  },
  {
   "cell_type": "code",
   "execution_count": 314,
   "id": "atmospheric-parliament",
   "metadata": {},
   "outputs": [],
   "source": [
    "# reshape all subjects\n",
    "sj_num = data1['dcc'].shape[0]\n",
    "dcc_num = data1['dcc'].shape[1]\n",
    "timebin_num = data1['dcc'].shape[2]\n",
    "dcc = data1['dcc'].reshape((dcc_num, timebin_num*sj_num))\n",
    "rate = data1['rate'].reshape(sj_num*rate_num)\n",
    "# PCA for all subjects (do this once only for each model)\n",
    "dcc_pca, evectors, evals = pca(dcc.T, n_components=15)"
   ]
  },
  {
   "cell_type": "code",
   "execution_count": 315,
   "id": "static-vinyl",
   "metadata": {},
   "outputs": [
    {
     "data": {
      "text/plain": [
       "array([[1.        , 0.97887174],\n",
       "       [0.97887174, 1.        ]])"
      ]
     },
     "execution_count": 315,
     "metadata": {},
     "output_type": "execute_result"
    }
   ],
   "source": [
    "# how it's done in 1 subject\n",
    "# regression model\n",
    "X = dcc_pca[:20,:]\n",
    "y = rate[:20]\n",
    "regr = linear_model.LinearRegression()\n",
    "regr.fit(X, y)\n",
    "# make predictions\n",
    "y_pred = regr.predict(X)\n",
    "# calculate correlation\n",
    "np.corrcoef(y, y_pred)"
   ]
  },
  {
   "cell_type": "code",
   "execution_count": 316,
   "id": "certified-keyboard",
   "metadata": {},
   "outputs": [
    {
     "data": {
      "text/plain": [
       "[<matplotlib.lines.Line2D at 0x7fd74547c460>]"
      ]
     },
     "execution_count": 316,
     "metadata": {},
     "output_type": "execute_result"
    },
    {
     "data": {
      "image/png": "[encoded data removed]",
      "text/plain": [
       "<Figure size 432x288 with 1 Axes>"
      ]
     },
     "metadata": {
      "needs_background": "light"
     },
     "output_type": "display_data"
    }
   ],
   "source": [
    "plt.plot(y,y_pred,'x', label='subject 0')"
   ]
  },
  {
   "cell_type": "code",
   "execution_count": 317,
   "id": "quantitative-fiction",
   "metadata": {},
   "outputs": [
    {
     "name": "stdout",
     "output_type": "stream",
     "text": [
      "(15,)\n"
     ]
    }
   ],
   "source": [
    "# how it's done in all subject\n",
    "# regression model\n",
    "X = dcc_pca\n",
    "y = rate\n",
    "regr = linear_model.LinearRegression()\n",
    "regr.fit(X, y)\n",
    "# make predictions\n",
    "y_pred = regr.predict(X)\n",
    "# calculate correlation\n",
    "np.corrcoef(y, y_pred)\n",
    "# get weights\n",
    "w1 = regr.coef_\n",
    "print(w1.shape)"
   ]
  },
  {
   "cell_type": "code",
   "execution_count": 318,
   "id": "antique-perry",
   "metadata": {},
   "outputs": [
    {
     "data": {
      "text/plain": [
       "[<matplotlib.lines.Line2D at 0x7fd744bcdf40>]"
      ]
     },
     "execution_count": 318,
     "metadata": {},
     "output_type": "execute_result"
    },
    {
     "data": {
      "image/png": "[encoded data removed]",
      "text/plain": [
       "<Figure size 432x288 with 1 Axes>"
      ]
     },
     "metadata": {
      "needs_background": "light"
     },
     "output_type": "display_data"
    }
   ],
   "source": [
    "plt.plot(y,y_pred,'x', label='all subjects (study1)')"
   ]
  },
  {
   "cell_type": "code",
   "execution_count": 319,
   "id": "removed-polish",
   "metadata": {},
   "outputs": [],
   "source": [
    "def criterion1(dcc_pca, rate, sj_num, timebin_num, dcc_num):\n",
    "    # leave one subject out CV\n",
    "    corr_coefs_c1 = np.empty((sj_num,))\n",
    "    for sj in range(sj_num):\n",
    "        test_idx = np.arange(sj*timebin_num,(sj+1)*timebin_num)\n",
    "        train_idx = np.concatenate([np.arange(0,sj*timebin_num), \n",
    "                                    np.arange((sj+1)*timebin_num, sj_num*timebin_num)])\n",
    "        y_test = rate[test_idx]\n",
    "        X_test = dcc_pca[test_idx, :]\n",
    "        y_train = rate[train_idx]\n",
    "        X_train = dcc_pca[train_idx, :]\n",
    "        # regression model\n",
    "        regr = linear_model.LinearRegression()\n",
    "        regr.fit(X_train, y_train)\n",
    "        # make predictions\n",
    "        y_pred = regr.predict(X_test)\n",
    "        # calculate correlation\n",
    "        corr_coefs_c1[sj] = np.corrcoef(y_test, y_pred)[0,1]\n",
    "    return corr_coefs_c1"
   ]
  },
  {
   "cell_type": "code",
   "execution_count": 320,
   "id": "dying-seattle",
   "metadata": {},
   "outputs": [
    {
     "name": "stdout",
     "output_type": "stream",
     "text": [
      "0.7462057798007957\n"
     ]
    }
   ],
   "source": [
    "# calculate\n",
    "corr_coefs_c1 = criterion1(dcc_pca, rate, sj_num, timebin_num, dcc_num)\n",
    "# mean CV within subject correlation\n",
    "print(np.mean(corr_coefs_c1))\n",
    "s1 = np.mean(corr_coefs_c1)"
   ]
  },
  {
   "cell_type": "markdown",
   "id": "lucky-burns",
   "metadata": {},
   "source": [
    "### Criterion 2: between-individual prediction in study1\n",
    "Calculate Pearson's correlation between averaged actual and predicted pain ratings for each condition across subject (1 subject has 2 ratings, CAPS and REST)."
   ]
  },
  {
   "cell_type": "code",
   "execution_count": 321,
   "id": "inappropriate-experience",
   "metadata": {},
   "outputs": [],
   "source": [
    "# using all subjects\n",
    "rate_mean = rate.transpose().reshape(-1,timebin_num).mean(1).reshape(-1).transpose()\n",
    "dcc_mean = dcc_pca.transpose().reshape(-1,timebin_num).mean(1).reshape(15, -1).transpose()\n",
    "# regression model\n",
    "regr = linear_model.LinearRegression()\n",
    "regr.fit(dcc_mean, rate_mean)\n",
    "# make predictions\n",
    "y_pred = regr.predict(dcc_mean)\n",
    "# weights\n",
    "w2 = regr.coef_"
   ]
  },
  {
   "cell_type": "code",
   "execution_count": 322,
   "id": "conventional-comparison",
   "metadata": {},
   "outputs": [
    {
     "data": {
      "text/plain": [
       "(15,)"
      ]
     },
     "execution_count": 322,
     "metadata": {},
     "output_type": "execute_result"
    }
   ],
   "source": [
    "w2.shape"
   ]
  },
  {
   "cell_type": "code",
   "execution_count": 323,
   "id": "fitting-ranch",
   "metadata": {},
   "outputs": [],
   "source": [
    "def criterion2(dcc_pca, rate, sj_num, timebin_num, dcc_num):\n",
    "    # leave one subject out CV\n",
    "    corr_coefs_c2 = np.empty((sj_num,))\n",
    "    # mean time bins within subject (taking mean of ratings within condition)\n",
    "    rate_mean = rate.transpose().reshape(-1,timebin_num).mean(1).reshape(-1).transpose()\n",
    "    dcc_mean = dcc_pca.transpose().reshape(-1,timebin_num).mean(1).reshape(15, -1).transpose()\n",
    "    # regression\n",
    "    for sj in range(sj_num):\n",
    "        test_idx = np.arange(sj*2,(sj+1)*2)\n",
    "        train_idx = np.concatenate([np.arange(0,sj*2), \n",
    "                                    np.arange((sj+1)*2, sj_num*2)])\n",
    "        y_test = rate[test_idx]\n",
    "        X_test = dcc_pca[test_idx, :]\n",
    "        y_train = rate[train_idx]\n",
    "        X_train = dcc_pca[train_idx, :]\n",
    "        # regression model\n",
    "        regr = linear_model.LinearRegression()\n",
    "        regr.fit(X_train, y_train)\n",
    "        # make predictions\n",
    "        y_pred = regr.predict(X_test)\n",
    "        # calculate correlation\n",
    "        corr_coefs_c2[sj] = np.corrcoef(y_test, y_pred)[0,1]\n",
    "    return corr_coefs_c2"
   ]
  },
  {
   "cell_type": "code",
   "execution_count": 324,
   "id": "meaning-dining",
   "metadata": {},
   "outputs": [
    {
     "name": "stdout",
     "output_type": "stream",
     "text": [
      "0.08333333333333333\n"
     ]
    }
   ],
   "source": [
    "# calculate\n",
    "corr_coefs_c2 = criterion2(dcc_pca, rate, sj_num, timebin_num, dcc_num)\n",
    "# mean CV across subject correlation (2 data points left, corrcoef 1 or -1)\n",
    "print(np.mean(corr_coefs_c2))\n",
    "s2 = np.mean(corr_coefs_c2)"
   ]
  },
  {
   "cell_type": "markdown",
   "id": "pointed-electron",
   "metadata": {},
   "source": [
    "### Criterion 3: classification of capsaicin vs control in study1\n",
    "2 alternative forced choice classification, compare paired values (1 CAPS and 1 REST predicted value, CAPS should be larger than REST) for each individual."
   ]
  },
  {
   "cell_type": "code",
   "execution_count": 325,
   "id": "amended-thermal",
   "metadata": {},
   "outputs": [],
   "source": [
    "def criterion3(dcc_pca, rate, sj_num, timebin_num, dcc_num):\n",
    "    # using similar method to 2\n",
    "    correct_percent_c3 = np.zeros((sj_num,))\n",
    "    # mean time bins within subject (taking mean of ratings within condition)\n",
    "    rate_mean = rate.transpose().reshape(-1,timebin_num).mean(1).reshape(-1).transpose()\n",
    "    dcc_mean = dcc_pca.transpose().reshape(-1,timebin_num).mean(1).reshape(15, -1).transpose()\n",
    "    # regression\n",
    "    for sj in range(sj_num):\n",
    "        test_idx = np.arange(sj*2,(sj+1)*2)\n",
    "        train_idx = np.concatenate([np.arange(0,sj*2), \n",
    "                                    np.arange((sj+1)*2, sj_num*2)])\n",
    "        y_test = rate[test_idx]\n",
    "        X_test = dcc_pca[test_idx, :]\n",
    "        y_train = rate[train_idx]\n",
    "        X_train = dcc_pca[train_idx, :]\n",
    "        # regression model\n",
    "        regr = linear_model.LinearRegression()\n",
    "        regr.fit(X_train, y_train)\n",
    "        # make predictions\n",
    "        y_pred = regr.predict(X_test)\n",
    "    #     calculate correct percentage\n",
    "    #     print(y_pred)\n",
    "        if y_pred[0]>y_pred[1]: # CAPS>REST\n",
    "            correct_percent_c3[sj] = 1\n",
    "    return correct_percent_c3"
   ]
  },
  {
   "cell_type": "code",
   "execution_count": 326,
   "id": "sitting-capacity",
   "metadata": {},
   "outputs": [
    {
     "name": "stdout",
     "output_type": "stream",
     "text": [
      "0.6666666666666666\n"
     ]
    }
   ],
   "source": [
    "# calculate correct percentage\n",
    "correct_percent_c3 = criterion3(dcc_pca, rate, sj_num, timebin_num, dcc_num)\n",
    "# mean\n",
    "print(np.mean(correct_percent_c3))\n",
    "s3 = np.mean(correct_percent_c3)"
   ]
  },
  {
   "cell_type": "markdown",
   "id": "assured-friendship",
   "metadata": {},
   "source": [
    "### Criterion 4: within individual prediction in study2\n",
    "Similar to model 1, but using a new dataset (not used CV in the paper)"
   ]
  },
  {
   "cell_type": "code",
   "execution_count": 327,
   "id": "quantitative-disposition",
   "metadata": {},
   "outputs": [],
   "source": [
    "# reshape all subjects\n",
    "sj_num = data2['dcc'].shape[0]\n",
    "dcc_num = data2['dcc'].shape[1]\n",
    "timebin_num = data2['dcc'].shape[2]\n",
    "dcc = data2['dcc'].reshape((dcc_num, timebin_num*sj_num))\n",
    "rate = data2['rate'].reshape(sj_num*rate_num)\n",
    "# PCA for all subjects (do this once only for each model)\n",
    "dcc_pca, evectors, evals = pca(dcc.T, n_components=15)"
   ]
  },
  {
   "cell_type": "code",
   "execution_count": 328,
   "id": "structured-death",
   "metadata": {},
   "outputs": [],
   "source": [
    "# applying weights from 1 to study2 data\n",
    "X = dcc_pca\n",
    "y_pred = np.dot(X, w1)"
   ]
  },
  {
   "cell_type": "code",
   "execution_count": 330,
   "id": "blind-mouse",
   "metadata": {},
   "outputs": [
    {
     "name": "stdout",
     "output_type": "stream",
     "text": [
      "0.12761027769481476\n"
     ]
    }
   ],
   "source": [
    "# correlation coefficient\n",
    "corr_coefs_c4 = np.corrcoef(rate, y_pred)[0,1]\n",
    "print(corr_coefs_c4)\n",
    "s4 = corr_coefs_c4"
   ]
  },
  {
   "cell_type": "markdown",
   "id": "thorough-removal",
   "metadata": {},
   "source": [
    "### Criterion 5: between-subject prediction in study2\n",
    "similar to criterion 2, but using data from study 2 (no CV)"
   ]
  },
  {
   "cell_type": "code",
   "execution_count": 331,
   "id": "grateful-diagnosis",
   "metadata": {},
   "outputs": [],
   "source": [
    "# taking mean of timebins\n",
    "rate_mean = rate.transpose().reshape(-1,timebin_num).mean(1).reshape(-1).transpose()\n",
    "dcc_mean = dcc_pca.transpose().reshape(-1,timebin_num).mean(1).reshape(15, -1).transpose()\n",
    "# applying weights from 2 to study 2 data\n",
    "X = dcc_mean\n",
    "y_pred = np.dot(X, w2)"
   ]
  },
  {
   "cell_type": "code",
   "execution_count": 333,
   "id": "frank-clinic",
   "metadata": {},
   "outputs": [
    {
     "name": "stdout",
     "output_type": "stream",
     "text": [
      "-0.012680984874434519\n"
     ]
    }
   ],
   "source": [
    "# correlation coefficient\n",
    "corr_coefs_c5 = np.corrcoef(rate_mean, y_pred)[0,1]\n",
    "print(corr_coefs_c5)\n",
    "s5 = corr_coefs_c5"
   ]
  },
  {
   "cell_type": "markdown",
   "id": "accurate-indonesian",
   "metadata": {},
   "source": [
    "### Criterion 6: classification of capsaicin vs control in study2\n",
    "similar to criterion 3, using study 2 data (no cv)"
   ]
  },
  {
   "cell_type": "code",
   "execution_count": 334,
   "id": "arabic-auditor",
   "metadata": {},
   "outputs": [],
   "source": [
    "# using same w2 weights\n",
    "X = dcc_mean\n",
    "y_pred = np.dot(X, w2)"
   ]
  },
  {
   "cell_type": "code",
   "execution_count": 335,
   "id": "necessary-centre",
   "metadata": {},
   "outputs": [],
   "source": [
    "# separating in conditions\n",
    "y_pred_CAPS = y_pred[::2]\n",
    "y_pred_REST = y_pred[1::2]"
   ]
  },
  {
   "cell_type": "code",
   "execution_count": 337,
   "id": "unique-emission",
   "metadata": {},
   "outputs": [
    {
     "name": "stdout",
     "output_type": "stream",
     "text": [
      "0.6666666666666666\n"
     ]
    }
   ],
   "source": [
    "# calculating prediction accuracy\n",
    "print(np.mean(y_pred_CAPS>y_pred_REST))\n",
    "s6 = np.mean(y_pred_CAPS>y_pred_REST)"
   ]
  },
  {
   "cell_type": "markdown",
   "id": "united-assistant",
   "metadata": {},
   "source": [
    "### Criterion 7: classification of capsaicin vs quinine in study2\n",
    "this examines the model specificity to see if it discriminates pain from non-painful aversive condition (quinine). Similar to 6, but comparing CAPS and QUIN."
   ]
  },
  {
   "cell_type": "code",
   "execution_count": 338,
   "id": "premier-strip",
   "metadata": {},
   "outputs": [],
   "source": [
    "# combining CAPS and QUIN (study2)\n",
    "data2a = {}\n",
    "data2a['dcc'] = np.concatenate([data_test['dcc_reduced_CAPS'],data_test['dcc_reduced_QUIN']], axis=2)\n",
    "data2a['rate'] = np.concatenate([data_test['pain_CAPS'],data_test['pain_QUIN']], axis=1)"
   ]
  },
  {
   "cell_type": "code",
   "execution_count": 339,
   "id": "limited-fifty",
   "metadata": {},
   "outputs": [],
   "source": [
    "# reshape all subjects\n",
    "sj_num = data2a['dcc'].shape[0]\n",
    "dcc_num = data2a['dcc'].shape[1]\n",
    "timebin_num = data2a['dcc'].shape[2]\n",
    "dcc = data2a['dcc'].reshape((dcc_num, timebin_num*sj_num))\n",
    "rate = data2a['rate'].reshape(sj_num*rate_num)\n",
    "# PCA for all subjects (do this once only for each model)\n",
    "dcc_pca, evectors, evals = pca(dcc.T, n_components=15)"
   ]
  },
  {
   "cell_type": "code",
   "execution_count": 340,
   "id": "middle-medium",
   "metadata": {},
   "outputs": [],
   "source": [
    "# taking mean of timebins\n",
    "rate_mean = rate.transpose().reshape(-1,timebin_num).mean(1).reshape(-1).transpose()\n",
    "dcc_mean = dcc_pca.transpose().reshape(-1,timebin_num).mean(1).reshape(15, -1).transpose()\n",
    "# using same w2 weights\n",
    "X = dcc_mean\n",
    "y_pred = np.dot(X, w2)"
   ]
  },
  {
   "cell_type": "code",
   "execution_count": 341,
   "id": "dimensional-roller",
   "metadata": {},
   "outputs": [],
   "source": [
    "# separating in conditions\n",
    "y_pred_CAPS = y_pred[::2]\n",
    "y_pred_QUIN = y_pred[1::2]"
   ]
  },
  {
   "cell_type": "code",
   "execution_count": 342,
   "id": "widespread-burton",
   "metadata": {},
   "outputs": [
    {
     "name": "stdout",
     "output_type": "stream",
     "text": [
      "0.4166666666666667\n"
     ]
    }
   ],
   "source": [
    "# calculating prediction accuracy\n",
    "s7 = np.mean(y_pred_CAPS>y_pred_QUIN)\n",
    "print(s7)"
   ]
  },
  {
   "cell_type": "markdown",
   "id": "interstate-insulin",
   "metadata": {},
   "source": [
    "### Taking it all together\n",
    "The final model performance score is calculated as:\n",
    "\n",
    "$$ P_{i,j} = (S_{i,j}-minV_j) / (maxV_j-minV_j) * 100$$\n",
    "\n",
    "where $S_{i,j}$ is the raw performance score for ith model and jth criterion. Vj is vectorised $S_{i,j}$ across models, and $P_{i,j}$ is the normalised score."
   ]
  },
  {
   "cell_type": "markdown",
   "id": "detailed-injury",
   "metadata": {},
   "source": [
    "Therefore, for 279 brain parcellation, DCC correlation, PCR with 15 PCs, this particular model has final score of: "
   ]
  },
  {
   "cell_type": "code",
   "execution_count": 343,
   "id": "about-choice",
   "metadata": {},
   "outputs": [],
   "source": [
    "s_ij = np.array([s1, s2, s3, s4, s5, s6, s7])"
   ]
  },
  {
   "cell_type": "code",
   "execution_count": 346,
   "id": "apart-finder",
   "metadata": {},
   "outputs": [
    {
     "name": "stdout",
     "output_type": "stream",
     "text": [
      "[100.          12.65199535  89.51897479  18.48645531   0.\n",
      "  89.51897479  56.5759836 ]\n",
      "366.7523838377458\n"
     ]
    }
   ],
   "source": [
    "p_ij = (s_ij-min(s_ij))/(max(s_ij)-min(s_ij))*100\n",
    "print(p_ij)\n",
    "print(sum(p_ij))"
   ]
  },
  {
   "cell_type": "markdown",
   "id": "documentary-construction",
   "metadata": {},
   "source": [
    "highest possible score will be 700, while this particular model has 366.\n",
    "\n",
    "We can repeat the procedure for different parameters and find the best combination."
   ]
  },
  {
   "cell_type": "markdown",
   "id": "controlled-relief",
   "metadata": {},
   "source": [
    "### the end"
   ]
  },
  {
   "cell_type": "code",
   "execution_count": null,
   "id": "sporting-secret",
   "metadata": {},
   "outputs": [],
   "source": []
  },
  {
   "cell_type": "code",
   "execution_count": null,
   "id": "dressed-corruption",
   "metadata": {},
   "outputs": [],
   "source": []
  },
  {
   "cell_type": "markdown",
   "id": "prostate-deficit",
   "metadata": {},
   "source": [
    "### helper functions"
   ]
  },
  {
   "cell_type": "markdown",
   "id": "split-bonus",
   "metadata": {},
   "source": [
    "#### PCA"
   ]
  },
  {
   "cell_type": "code",
   "execution_count": 50,
   "id": "fifth-founder",
   "metadata": {},
   "outputs": [],
   "source": [
    "# reducing DCC_out to 21PC\n",
    "def get_sample_cov_matrix(X):\n",
    "    \"\"\"\n",
    "    Returns the sample covariance matrix of data X\n",
    "    Args:\n",
    "    X (numpy array of floats) : Data matrix each column corresponds to a\n",
    "                                different random variable\n",
    "    Returns:\n",
    "    (numpy array of floats)   : Covariance matrix\n",
    "    \"\"\"\n",
    "\n",
    "    # Subtract the mean of X\n",
    "    X = X - np.mean(X, 0)\n",
    "    # Calculate the covariance matrix (hint: use np.matmul)\n",
    "    cov_matrix =  1 / X.shape[0] * np.matmul(X.T, X)\n",
    "\n",
    "    return cov_matrix\n",
    "\n",
    "def sort_evals_descending(evals, evectors, n_components=None):\n",
    "    \"\"\"\n",
    "    Sorts eigenvalues and eigenvectors in decreasing order. Also aligns first two\n",
    "    eigenvectors to be in first two quadrants (if 2D).\n",
    "\n",
    "    Args:\n",
    "    evals (numpy array of floats)    : Vector of eigenvalues\n",
    "    evectors (numpy array of floats) : Corresponding matrix of eigenvectors\n",
    "                                        each column corresponds to a different\n",
    "                                        eigenvalue\n",
    "\n",
    "    Returns:\n",
    "    (numpy array of floats)          : Vector of eigenvalues after sorting\n",
    "    (numpy array of floats)          : Matrix of eigenvectors after sorting\n",
    "    \"\"\"\n",
    "\n",
    "    index = np.flip(np.argsort(evals))\n",
    "    if n_components is not None:\n",
    "        index = index[:n_components]\n",
    "    evals = evals[index]\n",
    "    evectors = evectors[:, index]\n",
    "#     if evals.shape[0] == 2:\n",
    "#         if np.arccos(np.matmul(evectors[:, 0],\n",
    "#                            1 / np.sqrt(2) * np.array([1, 1]))) > np.pi / 2: evectors[:, 0] = -evectors[:, 0]\n",
    "#         if np.arccos(np.matmul(evectors[:, 1],\n",
    "#                            1 / np.sqrt(2) * np.array([-1, 1]))) > np.pi / 2:evectors[:, 1] = -evectors[:, 1]\n",
    "    return evals, evectors\n",
    "\n",
    "def change_of_basis(X, W):\n",
    "    \"\"\"\n",
    "    Projects data onto a new basis.\n",
    "\n",
    "    Args:\n",
    "    X (numpy array of floats) : Data matrix each column corresponding to a\n",
    "                                different random variable\n",
    "    W (numpy array of floats) : new orthonormal basis columns correspond to\n",
    "                                basis vectors\n",
    "\n",
    "    Returns:\n",
    "    (numpy array of floats)   : Data matrix expressed in new basis\n",
    "    \"\"\"\n",
    "\n",
    "    Y = np.matmul(X, W)\n",
    "    return Y\n",
    "\n",
    "\n",
    "def pca(X, n_components):\n",
    "    \"\"\"\n",
    "    Performs PCA on multivariate data.\n",
    "    Args:\n",
    "    X (numpy array of floats) : Data matrix each column corresponds to a\n",
    "                                different random variable\n",
    "    Returns:\n",
    "    (numpy array of floats)   : Data projected onto the new basis\n",
    "    (numpy array of floats)   : Vector of eigenvalues\n",
    "    (numpy array of floats)   : Corresponding matrix of eigenvectors\n",
    "    \"\"\"\n",
    "\n",
    "    # Subtract the mean of X\n",
    "    X = X - np.mean(X, axis=0)\n",
    "    # Calculate the sample covariance matrix\n",
    "    cov_matrix = get_sample_cov_matrix(X)\n",
    "    # Calculate the eigenvalues and eigenvectors\n",
    "    evals, evectors = np.linalg.eigh(cov_matrix)\n",
    "    # Sort the eigenvalues in descending order\n",
    "    evals, evectors = sort_evals_descending(evals, evectors, n_components)\n",
    "    # Project the data onto the new eigenvector basis\n",
    "    score = change_of_basis(X, evectors)\n",
    "\n",
    "    return score, evectors, evals"
   ]
  },
  {
   "cell_type": "markdown",
   "id": "minus-volunteer",
   "metadata": {},
   "source": [
    "#### reduce dcc matrix size"
   ]
  },
  {
   "cell_type": "code",
   "execution_count": 80,
   "id": "recent-agency",
   "metadata": {},
   "outputs": [],
   "source": [
    "# helper functions to load mat\n",
    "import scipy.io as spio\n",
    "import numpy as np\n",
    "\n",
    "\n",
    "def loadmat(filename):\n",
    "    '''\n",
    "    this function should be called instead of direct spio.loadmat\n",
    "    as it cures the problem of not properly recovering python dictionaries\n",
    "    from mat files. It calls the function check keys to cure all entries\n",
    "    which are still mat-objects\n",
    "    '''\n",
    "    def _check_keys(d):\n",
    "        '''\n",
    "        checks if entries in dictionary are mat-objects. If yes\n",
    "        todict is called to change them to nested dictionaries\n",
    "        '''\n",
    "        for key in d:\n",
    "            if isinstance(d[key], spio.matlab.mio5_params.mat_struct):\n",
    "                d[key] = _todict(d[key])\n",
    "        return d\n",
    "\n",
    "    def _todict(matobj):\n",
    "        '''\n",
    "        A recursive function which constructs from matobjects nested dictionaries\n",
    "        '''\n",
    "        d = {}\n",
    "        for strg in matobj._fieldnames:\n",
    "            elem = matobj.__dict__[strg]\n",
    "            if isinstance(elem, spio.matlab.mio5_params.mat_struct):\n",
    "                d[strg] = _todict(elem)\n",
    "            elif isinstance(elem, np.ndarray):\n",
    "                d[strg] = _tolist(elem)\n",
    "            else:\n",
    "                d[strg] = elem\n",
    "        return d\n",
    "\n",
    "    def _tolist(ndarray):\n",
    "        '''\n",
    "        A recursive function which constructs lists from cellarrays\n",
    "        (which are loaded as numpy ndarrays), recursing into the elements\n",
    "        if they contain matobjects.\n",
    "        '''\n",
    "        elem_list = []\n",
    "        for sub_elem in ndarray:\n",
    "            if isinstance(sub_elem, spio.matlab.mio5_params.mat_struct):\n",
    "                elem_list.append(_todict(sub_elem))\n",
    "            elif isinstance(sub_elem, np.ndarray):\n",
    "                elem_list.append(_tolist(sub_elem))\n",
    "            else:\n",
    "                elem_list.append(sub_elem)\n",
    "        return elem_list\n",
    "    data = spio.loadmat(filename, struct_as_record=False, squeeze_me=True)\n",
    "    return _check_keys(data)"
   ]
  },
  {
   "cell_type": "code",
   "execution_count": 81,
   "id": "portable-layer",
   "metadata": {},
   "outputs": [],
   "source": [
    "main_mat = './data/whole_participants/FC_and_pain/study3.mat'"
   ]
  },
  {
   "cell_type": "code",
   "execution_count": 82,
   "id": "skilled-clock",
   "metadata": {},
   "outputs": [],
   "source": [
    "m = loadmat(main_mat)"
   ]
  },
  {
   "cell_type": "code",
   "execution_count": 83,
   "id": "binding-fireplace",
   "metadata": {},
   "outputs": [
    {
     "name": "stdout",
     "output_type": "stream",
     "text": [
      "REST\n",
      "CAPS\n",
      "QUIN\n",
      "ODOR\n"
     ]
    }
   ],
   "source": [
    "# reduce size of dcc\n",
    "m['dcc_reduced'] = {}\n",
    "for key, item in m['dcc'].items():\n",
    "    print(key)\n",
    "    tmp_ls = []\n",
    "    for subj in range(len(item)):\n",
    "        tmp_ls.append(item[subj][::100])\n",
    "    m['dcc_reduced'][key] = tmp_ls"
   ]
  },
  {
   "cell_type": "code",
   "execution_count": 84,
   "id": "quality-small",
   "metadata": {},
   "outputs": [],
   "source": [
    "mr = {'dcc_reduced':m['dcc_reduced'], 'pain':m['pain']}"
   ]
  },
  {
   "cell_type": "code",
   "execution_count": 85,
   "id": "relevant-intersection",
   "metadata": {},
   "outputs": [],
   "source": [
    "import pickle\n",
    "pickle.dump(mr,open('study3_reduced.p','wb'))"
   ]
  },
  {
   "cell_type": "code",
   "execution_count": null,
   "id": "metropolitan-static",
   "metadata": {},
   "outputs": [],
   "source": []
  }
 ],
 "metadata": {
  "kernelspec": {
   "display_name": "Python 3",
   "language": "python",
   "name": "python3"
  },
  "language_info": {
   "codemirror_mode": {
    "name": "ipython",
    "version": 3
   },
   "file_extension": ".py",
   "mimetype": "text/x-python",
   "name": "python",
   "nbconvert_exporter": "python",
   "pygments_lexer": "ipython3",
   "version": "3.8.5"
  }
 },
 "nbformat": 4,
 "nbformat_minor": 5
}
