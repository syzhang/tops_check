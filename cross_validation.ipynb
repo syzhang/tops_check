{
 "cells": [
  {
   "cell_type": "markdown",
   "id": "promising-munich",
   "metadata": {},
   "source": [
    "## replicate tops cross validation pipeline"
   ]
  },
  {
   "cell_type": "markdown",
   "id": "breathing-adoption",
   "metadata": {},
   "source": [
    "Model selection in the tops paper used multiple criterias to test for \n",
    "* model sensitivity (CV)\n",
    "* model specificity (CV)\n",
    "\n",
    "in 2 datasets\n",
    "* test dataset of study 1 (the original dataset used to train the model)\n",
    "* an independent dataset with identical aqcuisition to study1\n",
    "\n",
    "then summarised all these metrics into a single metric to determine the best fit model."
   ]
  },
  {
   "cell_type": "markdown",
   "id": "occupied-record",
   "metadata": {},
   "source": [
    "### load dcc matrix and ratings"
   ]
  },
  {
   "cell_type": "code",
   "execution_count": 194,
   "id": "central-richmond",
   "metadata": {},
   "outputs": [],
   "source": [
    "import numpy as np\n",
    "import pandas as pd\n",
    "import pickle\n",
    "import matplotlib.pyplot as plt\n",
    "from matplotlib.pyplot import cm"
   ]
  },
  {
   "cell_type": "code",
   "execution_count": 2,
   "id": "existing-replication",
   "metadata": {},
   "outputs": [],
   "source": [
    "dat = pickle.load(open('study3_reduced.p','rb'))"
   ]
  },
  {
   "cell_type": "markdown",
   "id": "identical-regression",
   "metadata": {},
   "source": [
    "study 3 has 4 sets of data with 48 subjects:\n",
    "* capsaicin pain (CAPS)\n",
    "* control with no pain (REST)\n",
    "* quinine aversive taste (QUIN)\n",
    "* aversive odor (ODOR)\n",
    "\n",
    "The pain/aversive ratings and DCC functional connectivity matrices were provided by the authors. For computing efficency, the matrices were reduced (downsampled every 10 values)."
   ]
  },
  {
   "cell_type": "code",
   "execution_count": 4,
   "id": "revolutionary-windows",
   "metadata": {},
   "outputs": [],
   "source": [
    "data = {}\n",
    "for key, item in dat.items():\n",
    "    dat_tmp = item\n",
    "    for key_cond, item_cond in item.items():\n",
    "#         print(key, key_cond)\n",
    "        data[key+'_'+key_cond] = np.array(item_cond)"
   ]
  },
  {
   "cell_type": "code",
   "execution_count": 5,
   "id": "hundred-portuguese",
   "metadata": {},
   "outputs": [
    {
     "data": {
      "text/plain": [
       "(48, 10)"
      ]
     },
     "execution_count": 5,
     "metadata": {},
     "output_type": "execute_result"
    }
   ],
   "source": [
    "data['pain_REST'].shape"
   ]
  },
  {
   "cell_type": "markdown",
   "id": "revolutionary-moldova",
   "metadata": {},
   "source": [
    "Plotting ratings from 4 datasets"
   ]
  },
  {
   "cell_type": "code",
   "execution_count": 6,
   "id": "excellent-warehouse",
   "metadata": {},
   "outputs": [
    {
     "data": {
      "text/plain": [
       "<matplotlib.legend.Legend at 0x7fb30dde4ca0>"
      ]
     },
     "execution_count": 6,
     "metadata": {},
     "output_type": "execute_result"
    },
    {
     "data": {
      "image/png": "[encoded data removed]",
      "text/plain": [
       "<Figure size 432x288 with 1 Axes>"
      ]
     },
     "metadata": {
      "needs_background": "light"
     },
     "output_type": "display_data"
    }
   ],
   "source": [
    "conds = ['REST', 'CAPS', 'QUIN', 'ODOR']\n",
    "for c in conds:\n",
    "    key = 'pain_'+c\n",
    "    _ = plt.errorbar(np.arange(0,10), np.mean(data[key],axis=0), np.std(data[key],axis=0), label=c)\n",
    "plt.legend()"
   ]
  },
  {
   "cell_type": "markdown",
   "id": "owned-decade",
   "metadata": {},
   "source": [
    "### model training\n",
    "we use half the subjects (n=24) for training, leaving the rest for testing (pretending it's a validation study like study 2). Like in the paper, we train with CAPS and REST conditions by concatenating them."
   ]
  },
  {
   "cell_type": "code",
   "execution_count": 7,
   "id": "secondary-riverside",
   "metadata": {},
   "outputs": [],
   "source": [
    "data_train = {}\n",
    "data_test = {}\n",
    "for key, item in data.items():\n",
    "    data_train[key] = item[:24,:]\n",
    "    data_test[key] = item[24:,:]"
   ]
  },
  {
   "cell_type": "code",
   "execution_count": 8,
   "id": "weighted-yemen",
   "metadata": {},
   "outputs": [
    {
     "data": {
      "text/plain": [
       "(48, 388, 10)"
      ]
     },
     "execution_count": 8,
     "metadata": {},
     "output_type": "execute_result"
    }
   ],
   "source": [
    "data['dcc_reduced_REST'].shape"
   ]
  },
  {
   "cell_type": "code",
   "execution_count": 9,
   "id": "geological-government",
   "metadata": {},
   "outputs": [
    {
     "data": {
      "text/plain": [
       "(24, 388, 10)"
      ]
     },
     "execution_count": 9,
     "metadata": {},
     "output_type": "execute_result"
    }
   ],
   "source": [
    "data_train['dcc_reduced_REST'].shape"
   ]
  },
  {
   "cell_type": "code",
   "execution_count": 106,
   "id": "designed-measurement",
   "metadata": {},
   "outputs": [],
   "source": [
    "# combining CAPS and REST (study1)\n",
    "data1 = {}\n",
    "data1['dcc'] = np.concatenate([data_train['dcc_reduced_CAPS'],data_train['dcc_reduced_REST']], axis=2)\n",
    "data1['rate'] = np.concatenate([data_train['pain_CAPS'],data_train['pain_REST']], axis=1)"
   ]
  },
  {
   "cell_type": "code",
   "execution_count": 107,
   "id": "selective-native",
   "metadata": {},
   "outputs": [],
   "source": [
    "# combining CAPS and REST (study2)\n",
    "data2 = {}\n",
    "data2['dcc'] = np.concatenate([data_test['dcc_reduced_CAPS'],data_test['dcc_reduced_REST']], axis=2)\n",
    "data2['rate'] = np.concatenate([data_test['pain_CAPS'],data_test['pain_REST']], axis=1)"
   ]
  },
  {
   "cell_type": "code",
   "execution_count": 108,
   "id": "modern-marathon",
   "metadata": {},
   "outputs": [],
   "source": [
    "from sklearn.model_selection import KFold\n",
    "from sklearn import linear_model\n",
    "from sklearn.metrics import mean_squared_error, r2_score"
   ]
  },
  {
   "cell_type": "code",
   "execution_count": 109,
   "id": "israeli-crossing",
   "metadata": {},
   "outputs": [],
   "source": [
    "# reshape all subjects\n",
    "sj_num = data1['dcc'].shape[0]\n",
    "dcc_num = data1['dcc'].shape[1]\n",
    "timebin_num = data1['dcc'].shape[2]\n",
    "dcc = data1['dcc'].reshape((dcc_num, timebin_num*sj_num))\n",
    "rate = data1['rate'].reshape(sj_num*timebin_num)"
   ]
  },
  {
   "cell_type": "markdown",
   "id": "preceding-margin",
   "metadata": {},
   "source": [
    "* connectome based predictive modelling (CPM) - calculate correlate coefficient of each dcc component with ratings, separating into positive and negative, then sum over positive and negative dccs into two features to use in a linear regression. Hyperparameter to tune is the correlation threshold."
   ]
  },
  {
   "cell_type": "code",
   "execution_count": 184,
   "id": "involved-shell",
   "metadata": {},
   "outputs": [],
   "source": [
    "def select_features(train_vcts, train_behav, r_thresh=0.2, corr_type='pearson', verbose=False):\n",
    "    \n",
    "    \"\"\"\n",
    "    Runs the CPM feature selection step: \n",
    "    - correlates each edge with behavior, and returns a mask of edges that are correlated above some threshold, one for each tail (positive and negative)\n",
    "    \"\"\"\n",
    "\n",
    "#     assert train_vcts.index.equals(train_behav.index), \"Row indices of FC vcts and behavior don't match!\"\n",
    "    assert train_vcts.shape[0]==train_behav.shape[0]\n",
    "\n",
    "    # Correlate all edges with behav vector\n",
    "    if corr_type =='pearson':\n",
    "        cov = np.dot(train_behav.T - train_behav.mean(), train_vcts - train_vcts.mean(axis=0)) / (train_behav.shape[0]-1)\n",
    "        corr = cov / np.sqrt(np.var(train_behav, ddof=1) * np.var(train_vcts, axis=0, ddof=1))\n",
    "    elif corr_type =='spearman':\n",
    "        corr = []\n",
    "        for edge in train_vcts.columns:\n",
    "            r_val = sp.stats.spearmanr(train_vcts.loc[:,edge], train_behav)[0]\n",
    "            corr.append(r_val)\n",
    "    # Define positive and negative masks\n",
    "    mask_dict = {}\n",
    "    mask_dict[\"pos\"] = corr > r_thresh\n",
    "    mask_dict[\"neg\"] = corr < -r_thresh\n",
    "    \n",
    "    if verbose:\n",
    "        print(\"Found ({}/{}) edges positively/negatively correlated with behavior in the training set\".format(mask_dict[\"pos\"].sum(), mask_dict[\"neg\"].sum())) # for debugging\n",
    "\n",
    "    return mask_dict"
   ]
  },
  {
   "cell_type": "code",
   "execution_count": 185,
   "id": "organized-candy",
   "metadata": {},
   "outputs": [],
   "source": [
    "def build_model(train_vcts, mask_dict, train_behav):\n",
    "    \"\"\"\n",
    "    Builds a CPM model:\n",
    "    - takes a feature mask, sums all edges in the mask for each subject, and uses simple linear regression to relate summed network strength to behavior\n",
    "    \"\"\"\n",
    "\n",
    "#     assert train_vcts.index.equals(train_behav.index), \"Row indices of FC vcts and behavior don't match!\"\n",
    "    assert train_vcts.shape[0]==train_behav.shape[0]\n",
    "\n",
    "    model_dict = {}\n",
    "\n",
    "    # Loop through pos and neg tails\n",
    "    X_glm = np.zeros((train_vcts.shape[0], len(mask_dict.items())))\n",
    "\n",
    "    t = 0\n",
    "    for tail, mask in mask_dict.items(): # iterate both positive and negative correlated components\n",
    "#         X = train_vcts.values[:, mask].sum(axis=1) \n",
    "        X = train_vcts[:, mask].sum(axis=1)\n",
    "        print(X.shape)\n",
    "        X_glm[:, t] = X\n",
    "        y = train_behav\n",
    "        (slope, intercept) = np.polyfit(X, y, 1) # X is a column, linear regression\n",
    "        model_dict[tail] = (slope, intercept)\n",
    "        t+=1\n",
    "    X_glm = np.c_[X_glm, np.ones(X_glm.shape[0])] # regress with pos, neg, and constant\n",
    "    model_dict[\"glm\"] = tuple(np.linalg.lstsq(X_glm, y, rcond=None)[0])\n",
    "\n",
    "    return model_dict"
   ]
  },
  {
   "cell_type": "code",
   "execution_count": 186,
   "id": "limited-money",
   "metadata": {},
   "outputs": [],
   "source": [
    "def apply_model(test_vcts, mask_dict, model_dict):\n",
    "    \"\"\"\n",
    "    Applies a previously trained linear regression model to a test set to generate predictions of behavior.\n",
    "    \"\"\"\n",
    "\n",
    "    behav_pred = {}\n",
    "\n",
    "    X_glm = np.zeros((test_vcts.shape[0], len(mask_dict.items())))\n",
    "\n",
    "    # Loop through pos and neg tails\n",
    "    t = 0\n",
    "    for tail, mask in mask_dict.items():\n",
    "#         X = test_vcts.loc[:, mask].sum(axis=1)\n",
    "        X = test_vcts[:, mask].sum(axis=1)\n",
    "        X_glm[:, t] = X\n",
    "\n",
    "        slope, intercept = model_dict[tail]\n",
    "        behav_pred[tail] = slope*X + intercept\n",
    "        t+=1\n",
    "\n",
    "    X_glm = np.c_[X_glm, np.ones(X_glm.shape[0])]\n",
    "    behav_pred[\"glm\"] = np.dot(X_glm, model_dict[\"glm\"])\n",
    "\n",
    "    return behav_pred"
   ]
  },
  {
   "cell_type": "code",
   "execution_count": 187,
   "id": "bound-seller",
   "metadata": {},
   "outputs": [
    {
     "name": "stdout",
     "output_type": "stream",
     "text": [
      "(480,)\n",
      "(480,)\n"
     ]
    }
   ],
   "source": [
    "# calculate feature mask (hyperparameter is r_thresh 0-1)\n",
    "mask = select_features(dcc.T, rate, r_thresh=0.2, corr_type='pearson')\n",
    "# linear regression with pos, neg and constant\n",
    "model_dict = build_model(dcc.T, mask, rate)\n",
    "# predicting rating using model above\n",
    "y_pred_cpm = apply_model(dcc.T, mask, model_dict)"
   ]
  },
  {
   "cell_type": "code",
   "execution_count": 177,
   "id": "handy-junction",
   "metadata": {},
   "outputs": [
    {
     "data": {
      "text/plain": [
       "Text(0.5, 1.0, 'CPM with correlation threshold 0.2, corrcoef=0.771')"
      ]
     },
     "execution_count": 177,
     "metadata": {},
     "output_type": "execute_result"
    },
    {
     "data": {
      "image/png": "[encoded data removed]",
      "text/plain": [
       "<Figure size 432x288 with 1 Axes>"
      ]
     },
     "metadata": {
      "needs_background": "light"
     },
     "output_type": "display_data"
    }
   ],
   "source": [
    "plt.plot(rate, y_pred_cpm['glm'],'x', label='all subjects (study1)')\n",
    "plt.legend()\n",
    "plt.xlabel('Actual ratings')\n",
    "plt.ylabel('Predicted ratings')\n",
    "cc = np.corrcoef(rate, y_pred_cpm['glm'])[0,1]\n",
    "plt.title(f'CPM with correlation threshold 0.2, corrcoef={cc:.3f}')"
   ]
  },
  {
   "cell_type": "markdown",
   "id": "enclosed-period",
   "metadata": {},
   "source": [
    "* Principal components regression (PCR) - linear regression with PCA components. Hyperparameter to tune is the number of PCs."
   ]
  },
  {
   "cell_type": "code",
   "execution_count": null,
   "id": "living-winning",
   "metadata": {},
   "outputs": [],
   "source": [
    "# PCA for all subjects (do this once only for each model)\n",
    "# load the helper functions at the end of notebook before running this\n",
    "dcc_pca, evectors, evals = pca(dcc.T, n_components=15)"
   ]
  },
  {
   "cell_type": "code",
   "execution_count": 119,
   "id": "aggregate-wellington",
   "metadata": {},
   "outputs": [
    {
     "name": "stdout",
     "output_type": "stream",
     "text": [
      "(15,)\n"
     ]
    }
   ],
   "source": [
    "# how it's done in all subject without CV\n",
    "# regression model\n",
    "X = dcc_pca\n",
    "y = rate\n",
    "regr = linear_model.LinearRegression()\n",
    "regr.fit(X, y)\n",
    "# make predictions\n",
    "y_pred = regr.predict(X)\n",
    "# calculate correlation\n",
    "np.corrcoef(y, y_pred)\n",
    "# get weights\n",
    "w1 = regr.coef_\n",
    "print(w1.shape)"
   ]
  },
  {
   "cell_type": "code",
   "execution_count": 120,
   "id": "latin-begin",
   "metadata": {},
   "outputs": [
    {
     "data": {
      "text/plain": [
       "Text(0.5, 1.0, 'PCR with 15 PCs, corrcoef=0.742')"
      ]
     },
     "execution_count": 120,
     "metadata": {},
     "output_type": "execute_result"
    },
    {
     "data": {
      "image/png": "[encoded data removed]",
      "text/plain": [
       "<Figure size 432x288 with 1 Axes>"
      ]
     },
     "metadata": {
      "needs_background": "light"
     },
     "output_type": "display_data"
    }
   ],
   "source": [
    "plt.plot(y,y_pred,'x', label='all subjects (study1)')\n",
    "plt.legend()\n",
    "plt.xlabel('Actual ratings')\n",
    "plt.ylabel('Predicted ratings')\n",
    "plt.title(f'PCR with 15 PCs, corrcoef={np.corrcoef(y, y_pred)[0,1]:.3f}')"
   ]
  },
  {
   "cell_type": "markdown",
   "id": "stable-ballet",
   "metadata": {},
   "source": [
    "* PCR-lasso - a modification of linear regression. The loss function is modified to minimise the complexity of the model by limiting the sum of absolute values of model coefficients. Hyperparameters are the number of PCs and the Lasso parameter alpha."
   ]
  },
  {
   "cell_type": "code",
   "execution_count": 126,
   "id": "gothic-dating",
   "metadata": {},
   "outputs": [],
   "source": [
    "from sklearn.linear_model import Lasso\n",
    "model_lasso = Lasso(alpha=0.01)\n",
    "model_lasso.fit(X, y) \n",
    "y_pred_lasso = model_lasso.predict(X)"
   ]
  },
  {
   "cell_type": "code",
   "execution_count": 127,
   "id": "noble-michael",
   "metadata": {},
   "outputs": [
    {
     "data": {
      "text/plain": [
       "Text(0.5, 1.0, 'PCR-Lasso with 15 PCs, corrcoef=0.709')"
      ]
     },
     "execution_count": 127,
     "metadata": {},
     "output_type": "execute_result"
    },
    {
     "data": {
      "image/png": "[encoded data removed]",
      "text/plain": [
       "<Figure size 432x288 with 1 Axes>"
      ]
     },
     "metadata": {
      "needs_background": "light"
     },
     "output_type": "display_data"
    }
   ],
   "source": [
    "plt.plot(y,y_pred_lasso,'x', label='all subjects (study1)')\n",
    "plt.legend()\n",
    "plt.xlabel('Actual ratings')\n",
    "plt.ylabel('Predicted ratings')\n",
    "plt.title(f'PCR-Lasso with 15 PCs, corrcoef={np.corrcoef(y, y_pred_lasso)[0,1]:.3f}')"
   ]
  },
  {
   "cell_type": "markdown",
   "id": "worst-competition",
   "metadata": {},
   "source": [
    "### Criterion 1: within-individual prediction (study1)\n",
    "\n",
    "Calculate Pearson's correlation values between actual and predicted ratings for each participant, then average the correlation coefficients to obtain 1 value per model."
   ]
  },
  {
   "cell_type": "code",
   "execution_count": 225,
   "id": "arranged-sugar",
   "metadata": {},
   "outputs": [],
   "source": [
    "def criterion1(dcc_pca, rate, sj_num, timebin_num, dcc_num):\n",
    "    # leave one subject out CV\n",
    "    corr_coefs_c1 = np.empty((sj_num,))\n",
    "    color=iter(cm.rainbow(np.linspace(0,1,100)))\n",
    "    for sj in range(sj_num):\n",
    "        test_idx = np.arange(sj*timebin_num,(sj+1)*timebin_num)\n",
    "        train_idx = np.concatenate([np.arange(0,sj*timebin_num), \n",
    "                                    np.arange((sj+1)*timebin_num, sj_num*timebin_num)])\n",
    "        y_test = rate[test_idx]\n",
    "        X_test = dcc_pca[test_idx, :]\n",
    "        y_train = rate[train_idx]\n",
    "        X_train = dcc_pca[train_idx, :]\n",
    "        # regression model\n",
    "        regr = linear_model.LinearRegression()\n",
    "        regr.fit(X_train, y_train)\n",
    "        # make predictions\n",
    "        y_pred = regr.predict(X_test)\n",
    "        # calculate correlation\n",
    "        corr_coefs_c1[sj] = np.corrcoef(y_test, y_pred)[0,1]\n",
    "    return corr_coefs_c1"
   ]
  },
  {
   "cell_type": "code",
   "execution_count": 226,
   "id": "amazing-marks",
   "metadata": {},
   "outputs": [
    {
     "name": "stdout",
     "output_type": "stream",
     "text": [
      "0.7462057798007957\n"
     ]
    }
   ],
   "source": [
    "# calculate\n",
    "corr_coefs_c1 = criterion1(dcc_pca, rate, sj_num, timebin_num, dcc_num)\n",
    "# mean CV within subject correlation\n",
    "print(np.mean(corr_coefs_c1))\n",
    "s1 = np.mean(corr_coefs_c1)"
   ]
  },
  {
   "cell_type": "markdown",
   "id": "large-simon",
   "metadata": {},
   "source": [
    "### Criterion 2: between-individual prediction in study1\n",
    "Calculate Pearson's correlation between averaged actual and predicted pain ratings for each condition across subject (1 subject has 2 ratings, CAPS and REST)."
   ]
  },
  {
   "cell_type": "code",
   "execution_count": 21,
   "id": "earlier-defense",
   "metadata": {},
   "outputs": [],
   "source": [
    "def average_n_rows(array_in, row_num):\n",
    "    if len(array_in.shape)<2 or array_in.shape[1]==1: # col\n",
    "        array_out = array_in.transpose().reshape(-1,row_num).mean(1).reshape(-1).transpose()\n",
    "    else:\n",
    "        col_num = array_in.shape[1]\n",
    "        array_out = array_in.transpose().reshape(-1,row_num).mean(1).reshape(col_num,-1).transpose()        \n",
    "    return array_out"
   ]
  },
  {
   "cell_type": "code",
   "execution_count": 22,
   "id": "powered-denmark",
   "metadata": {},
   "outputs": [],
   "source": [
    "def criterion2(dcc_pca, rate, sj_num, timebin_num, dcc_num):\n",
    "    # leave one subject out CV\n",
    "    corr_coefs_c2 = np.empty((sj_num,))\n",
    "    for sj in range(sj_num):\n",
    "        test_idx = np.arange(sj*timebin_num,(sj+1)*timebin_num)\n",
    "        train_idx = np.concatenate([np.arange(0,sj*timebin_num), \n",
    "                                    np.arange((sj+1)*timebin_num, sj_num*timebin_num)])\n",
    "        # mean within condition\n",
    "        y_test_tmp = rate[test_idx]\n",
    "        X_test_tmp = dcc_pca[test_idx, :]\n",
    "        y_test = average_n_rows(y_test_tmp, int(timebin_num/2))\n",
    "        X_test = average_n_rows(X_test_tmp, int(timebin_num/2))\n",
    "        y_train_tmp = rate[train_idx]\n",
    "        X_train_tmp = dcc_pca[train_idx, :]\n",
    "        y_train = average_n_rows(y_train_tmp, int(timebin_num/2))\n",
    "        X_train = average_n_rows(X_train_tmp, int(timebin_num/2))\n",
    "        # regression model\n",
    "        regr = linear_model.LinearRegression()\n",
    "        regr.fit(X_train, y_train)\n",
    "        # make predictions\n",
    "        y_pred = regr.predict(X_test)\n",
    "#         print(y_pred, y_test)\n",
    "        # calculate correlation\n",
    "        corr_coefs_c2[sj] = np.corrcoef(y_test, y_pred)[0,1]\n",
    "#         print(np.corrcoef(y_test, y_pred))\n",
    "    return corr_coefs_c2"
   ]
  },
  {
   "cell_type": "code",
   "execution_count": 23,
   "id": "unlikely-tanzania",
   "metadata": {},
   "outputs": [
    {
     "name": "stdout",
     "output_type": "stream",
     "text": [
      "1.0\n"
     ]
    }
   ],
   "source": [
    "# calculate\n",
    "corr_coefs_c2 = criterion2(dcc_pca, rate, sj_num, timebin_num, dcc_num)\n",
    "# mean CV across subject correlation (2 data points left, corrcoef 1 or -1)\n",
    "s2 = np.mean(corr_coefs_c2)\n",
    "print(s2)"
   ]
  },
  {
   "cell_type": "markdown",
   "id": "convertible-knowing",
   "metadata": {},
   "source": [
    "### Criterion 3: classification of capsaicin vs control in study1\n",
    "2 alternative forced choice classification, compare paired values (1 CAPS and 1 REST predicted value, CAPS should be larger than REST) for each individual."
   ]
  },
  {
   "cell_type": "code",
   "execution_count": 24,
   "id": "modified-plasma",
   "metadata": {},
   "outputs": [],
   "source": [
    "def criterion3(dcc_pca, rate, sj_num, timebin_num, dcc_num):\n",
    "    # leave one subject out CV\n",
    "    correct_percent_c3 = np.empty((sj_num,))\n",
    "    for sj in range(sj_num):\n",
    "        test_idx = np.arange(sj*timebin_num,(sj+1)*timebin_num)\n",
    "        train_idx = np.concatenate([np.arange(0,sj*timebin_num), \n",
    "                                    np.arange((sj+1)*timebin_num, sj_num*timebin_num)])\n",
    "        # mean within condition\n",
    "        y_test_tmp = rate[test_idx]\n",
    "        X_test_tmp = dcc_pca[test_idx, :]\n",
    "        y_test = average_n_rows(y_test_tmp, int(timebin_num/2))\n",
    "        X_test = average_n_rows(X_test_tmp, int(timebin_num/2))\n",
    "        y_train_tmp = rate[train_idx]\n",
    "        X_train_tmp = dcc_pca[train_idx, :]\n",
    "        y_train = average_n_rows(y_train_tmp, int(timebin_num/2))\n",
    "        X_train = average_n_rows(X_train_tmp, int(timebin_num/2))\n",
    "        # regression model\n",
    "        regr = linear_model.LinearRegression()\n",
    "        regr.fit(X_train, y_train)\n",
    "        # make predictions\n",
    "        y_pred = regr.predict(X_test)\n",
    "#         calculate correct percentage\n",
    "#         print(y_pred)\n",
    "        if y_pred[0]>y_pred[1]: # CAPS>REST\n",
    "            correct_percent_c3[sj] = 1\n",
    "    return correct_percent_c3"
   ]
  },
  {
   "cell_type": "code",
   "execution_count": 26,
   "id": "spectacular-affair",
   "metadata": {},
   "outputs": [
    {
     "name": "stdout",
     "output_type": "stream",
     "text": [
      "1.0\n"
     ]
    }
   ],
   "source": [
    "# calculate correct percentage\n",
    "correct_percent_c3 = criterion3(dcc_pca, rate, sj_num, timebin_num, dcc_num)\n",
    "# mean\n",
    "print(np.mean(correct_percent_c3))\n",
    "s3 = np.mean(correct_percent_c3)"
   ]
  },
  {
   "cell_type": "markdown",
   "id": "cosmetic-indiana",
   "metadata": {},
   "source": [
    "### Criterion 4: within individual prediction in study2\n",
    "Similar to model 1, but using a new dataset (not used CV in the paper)"
   ]
  },
  {
   "cell_type": "code",
   "execution_count": 72,
   "id": "precious-services",
   "metadata": {},
   "outputs": [],
   "source": [
    "# reshape all subjects\n",
    "sj_num = data2['dcc'].shape[0]\n",
    "dcc_num = data2['dcc'].shape[1]\n",
    "timebin_num = data2['dcc'].shape[2]\n",
    "dcc = data2['dcc'].reshape((dcc_num, timebin_num*sj_num))\n",
    "rate = data2['rate'].reshape(sj_num*timebin_num)\n",
    "# PCA for all subjects (do this once only for each model)\n",
    "dcc_pca, evectors, evals = pca(dcc.T, n_components=15)"
   ]
  },
  {
   "cell_type": "code",
   "execution_count": 73,
   "id": "spoken-manitoba",
   "metadata": {},
   "outputs": [],
   "source": [
    "# applying weights from 1 to study2 data\n",
    "X = dcc_pca\n",
    "y_pred = np.dot(X, w1)"
   ]
  },
  {
   "cell_type": "code",
   "execution_count": 74,
   "id": "fixed-dutch",
   "metadata": {},
   "outputs": [
    {
     "name": "stdout",
     "output_type": "stream",
     "text": [
      "0.12761027769481476\n"
     ]
    }
   ],
   "source": [
    "# correlation coefficient\n",
    "corr_coefs_c4 = np.corrcoef(rate, y_pred)[0,1]\n",
    "s4 = corr_coefs_c4\n",
    "print(s4)"
   ]
  },
  {
   "cell_type": "markdown",
   "id": "limiting-utility",
   "metadata": {},
   "source": [
    "### Criterion 5: between-subject prediction in study2\n",
    "similar to criterion 2, but using data from study 2 (no CV)"
   ]
  },
  {
   "cell_type": "code",
   "execution_count": 75,
   "id": "graduate-proceeding",
   "metadata": {},
   "outputs": [],
   "source": [
    "# applying weights to study 2 data\n",
    "y_tmp = rate\n",
    "X_tmp = dcc_pca\n",
    "y = average_n_rows(y_tmp, int(timebin_num/2))\n",
    "X = average_n_rows(X_tmp, int(timebin_num/2))\n",
    "y_pred = np.dot(X, w1)"
   ]
  },
  {
   "cell_type": "code",
   "execution_count": 76,
   "id": "stupid-gabriel",
   "metadata": {},
   "outputs": [
    {
     "name": "stdout",
     "output_type": "stream",
     "text": [
      "0.14153238052651612\n"
     ]
    }
   ],
   "source": [
    "# correlation coefficient\n",
    "corr_coefs_c5 = np.corrcoef(y, y_pred)[0,1]\n",
    "s5 = corr_coefs_c5\n",
    "print(s5)"
   ]
  },
  {
   "cell_type": "code",
   "execution_count": 83,
   "id": "retained-support",
   "metadata": {},
   "outputs": [
    {
     "data": {
      "text/plain": [
       "[<matplotlib.lines.Line2D at 0x7fb30e96d340>]"
      ]
     },
     "execution_count": 83,
     "metadata": {},
     "output_type": "execute_result"
    },
    {
     "data": {
      "image/png": "[encoded data removed]",
      "text/plain": [
       "<Figure size 432x288 with 1 Axes>"
      ]
     },
     "metadata": {
      "needs_background": "light"
     },
     "output_type": "display_data"
    }
   ],
   "source": [
    "plt.plot(y, y_pred, 'x')"
   ]
  },
  {
   "cell_type": "markdown",
   "id": "unexpected-provision",
   "metadata": {},
   "source": [
    "### Criterion 6: classification of capsaicin vs control in study2\n",
    "similar to criterion 3, using study 2 data (no cv)"
   ]
  },
  {
   "cell_type": "code",
   "execution_count": 84,
   "id": "organic-removal",
   "metadata": {},
   "outputs": [],
   "source": [
    "# applying weights to study 2 data\n",
    "y_tmp = rate\n",
    "X_tmp = dcc_pca\n",
    "y = average_n_rows(y_tmp, int(timebin_num/2))\n",
    "X = average_n_rows(X_tmp, int(timebin_num/2))\n",
    "y_pred = np.dot(X, w1)"
   ]
  },
  {
   "cell_type": "code",
   "execution_count": 85,
   "id": "structured-upgrade",
   "metadata": {},
   "outputs": [],
   "source": [
    "# separating in conditions\n",
    "y_pred_CAPS = y_pred[::2]\n",
    "y_pred_REST = y_pred[1::2]"
   ]
  },
  {
   "cell_type": "code",
   "execution_count": 88,
   "id": "stupid-violation",
   "metadata": {},
   "outputs": [
    {
     "data": {
      "text/plain": [
       "[<matplotlib.lines.Line2D at 0x7fb30eab78b0>]"
      ]
     },
     "execution_count": 88,
     "metadata": {},
     "output_type": "execute_result"
    },
    {
     "data": {
      "image/png": "[encoded data removed]",
      "text/plain": [
       "<Figure size 432x288 with 1 Axes>"
      ]
     },
     "metadata": {
      "needs_background": "light"
     },
     "output_type": "display_data"
    }
   ],
   "source": [
    "plt.plot(y_pred_CAPS, 'rx')\n",
    "plt.plot(y_pred_REST, '*')"
   ]
  },
  {
   "cell_type": "code",
   "execution_count": 87,
   "id": "aerial-documentation",
   "metadata": {},
   "outputs": [
    {
     "name": "stdout",
     "output_type": "stream",
     "text": [
      "0.8333333333333334\n"
     ]
    }
   ],
   "source": [
    "# calculating prediction accuracy\n",
    "s6 = np.mean(y_pred_CAPS>y_pred_REST)\n",
    "print(s6)"
   ]
  },
  {
   "cell_type": "markdown",
   "id": "fewer-marine",
   "metadata": {},
   "source": [
    "### Criterion 7: classification of capsaicin vs quinine in study2\n",
    "this examines the model specificity to see if it discriminates pain from non-painful aversive condition (quinine). Similar to 6, but comparing CAPS and QUIN."
   ]
  },
  {
   "cell_type": "code",
   "execution_count": 89,
   "id": "final-correlation",
   "metadata": {},
   "outputs": [],
   "source": [
    "# combining CAPS and QUIN (study2)\n",
    "data2a = {}\n",
    "data2a['dcc'] = np.concatenate([data_test['dcc_reduced_CAPS'],data_test['dcc_reduced_QUIN']], axis=2)\n",
    "data2a['rate'] = np.concatenate([data_test['pain_CAPS'],data_test['pain_QUIN']], axis=1)"
   ]
  },
  {
   "cell_type": "code",
   "execution_count": 90,
   "id": "thirty-shakespeare",
   "metadata": {},
   "outputs": [],
   "source": [
    "# reshape all subjects\n",
    "sj_num = data2a['dcc'].shape[0]\n",
    "dcc_num = data2a['dcc'].shape[1]\n",
    "timebin_num = data2a['dcc'].shape[2]\n",
    "dcc = data2a['dcc'].reshape((dcc_num, timebin_num*sj_num))\n",
    "rate = data2a['rate'].reshape(sj_num*timebin_num)\n",
    "# PCA for all subjects (do this once only for each model)\n",
    "dcc_pca, evectors, evals = pca(dcc.T, n_components=15)"
   ]
  },
  {
   "cell_type": "code",
   "execution_count": 91,
   "id": "pending-skiing",
   "metadata": {},
   "outputs": [],
   "source": [
    "# applying weights to study 2 data\n",
    "y_tmp = rate\n",
    "X_tmp = dcc_pca\n",
    "y = average_n_rows(y_tmp, int(timebin_num/2))\n",
    "X = average_n_rows(X_tmp, int(timebin_num/2))\n",
    "y_pred = np.dot(X, w1)"
   ]
  },
  {
   "cell_type": "code",
   "execution_count": 92,
   "id": "adjacent-agenda",
   "metadata": {},
   "outputs": [],
   "source": [
    "# separating in conditions\n",
    "y_pred_CAPS = y_pred[::2]\n",
    "y_pred_QUIN = y_pred[1::2]"
   ]
  },
  {
   "cell_type": "code",
   "execution_count": 93,
   "id": "divine-release",
   "metadata": {},
   "outputs": [
    {
     "name": "stdout",
     "output_type": "stream",
     "text": [
      "0.20833333333333334\n"
     ]
    }
   ],
   "source": [
    "# calculating prediction accuracy\n",
    "s7 = np.mean(y_pred_CAPS>y_pred_QUIN)\n",
    "print(s7)"
   ]
  },
  {
   "cell_type": "markdown",
   "id": "secret-landing",
   "metadata": {},
   "source": [
    "### Taking it all together\n",
    "The final model performance score is calculated as:\n",
    "\n",
    "$$ P_{i,j} = (S_{i,j}-minV_j) / (maxV_j-minV_j) * 100$$\n",
    "\n",
    "where $S_{i,j}$ is the raw performance score for ith model and jth criterion. Vj is vectorised $S_{i,j}$ across models, and $P_{i,j}$ is the normalised score."
   ]
  },
  {
   "cell_type": "markdown",
   "id": "objective-concord",
   "metadata": {},
   "source": [
    "Therefore, for 279 brain parcellation, DCC correlation, PCR with 15 PCs, this particular model has final score of: "
   ]
  },
  {
   "cell_type": "code",
   "execution_count": 94,
   "id": "infectious-wiring",
   "metadata": {},
   "outputs": [],
   "source": [
    "s_ij = np.array([s1, s2, s3, s4, s5, s6, s7])"
   ]
  },
  {
   "cell_type": "code",
   "execution_count": 95,
   "id": "fitting-manor",
   "metadata": {},
   "outputs": [
    {
     "name": "stdout",
     "output_type": "stream",
     "text": [
      "[ 70.90816023 100.         100.           0.           1.59585819\n",
      "  80.89538856   9.25309567]\n",
      "362.65250265274534\n"
     ]
    }
   ],
   "source": [
    "p_ij = (s_ij-min(s_ij))/(max(s_ij)-min(s_ij))*100\n",
    "print(p_ij)\n",
    "print(sum(p_ij))"
   ]
  },
  {
   "cell_type": "code",
   "execution_count": 104,
   "id": "linear-lighting",
   "metadata": {},
   "outputs": [
    {
     "data": {
      "text/plain": [
       "<matplotlib.collections.LineCollection at 0x7fb30f992ac0>"
      ]
     },
     "execution_count": 104,
     "metadata": {},
     "output_type": "execute_result"
    },
    {
     "data": {
      "image/png": "[encoded data removed]",
      "text/plain": [
       "<Figure size 432x288 with 1 Axes>"
      ]
     },
     "metadata": {
      "needs_background": "light"
     },
     "output_type": "display_data"
    }
   ],
   "source": [
    "plt.bar(np.arange(len(p_ij)), p_ij)\n",
    "plt.hlines(np.mean(p_ij), 0, 6,'k')"
   ]
  },
  {
   "cell_type": "markdown",
   "id": "virtual-salon",
   "metadata": {},
   "source": [
    "highest possible score will be 700, while this particular model has 362.\n",
    "\n",
    "We can repeat the procedure for different parameters and find the best combination."
   ]
  },
  {
   "cell_type": "markdown",
   "id": "declared-ghost",
   "metadata": {},
   "source": [
    "### the end"
   ]
  },
  {
   "cell_type": "code",
   "execution_count": null,
   "id": "smoking-shadow",
   "metadata": {},
   "outputs": [],
   "source": []
  },
  {
   "cell_type": "code",
   "execution_count": null,
   "id": "early-hayes",
   "metadata": {},
   "outputs": [],
   "source": []
  },
  {
   "cell_type": "markdown",
   "id": "bizarre-forwarding",
   "metadata": {},
   "source": [
    "### helper functions"
   ]
  },
  {
   "cell_type": "markdown",
   "id": "described-leone",
   "metadata": {},
   "source": [
    "#### PCA"
   ]
  },
  {
   "cell_type": "code",
   "execution_count": 3,
   "id": "grave-sport",
   "metadata": {},
   "outputs": [],
   "source": [
    "# reducing DCC_out to 21PC\n",
    "def get_sample_cov_matrix(X):\n",
    "    \"\"\"\n",
    "    Returns the sample covariance matrix of data X\n",
    "    Args:\n",
    "    X (numpy array of floats) : Data matrix each column corresponds to a\n",
    "                                different random variable\n",
    "    Returns:\n",
    "    (numpy array of floats)   : Covariance matrix\n",
    "    \"\"\"\n",
    "\n",
    "    # Subtract the mean of X\n",
    "    X = X - np.mean(X, 0)\n",
    "    # Calculate the covariance matrix (hint: use np.matmul)\n",
    "    cov_matrix =  1 / X.shape[0] * np.matmul(X.T, X)\n",
    "\n",
    "    return cov_matrix\n",
    "\n",
    "def sort_evals_descending(evals, evectors, n_components=None):\n",
    "    \"\"\"\n",
    "    Sorts eigenvalues and eigenvectors in decreasing order. Also aligns first two\n",
    "    eigenvectors to be in first two quadrants (if 2D).\n",
    "\n",
    "    Args:\n",
    "    evals (numpy array of floats)    : Vector of eigenvalues\n",
    "    evectors (numpy array of floats) : Corresponding matrix of eigenvectors\n",
    "                                        each column corresponds to a different\n",
    "                                        eigenvalue\n",
    "\n",
    "    Returns:\n",
    "    (numpy array of floats)          : Vector of eigenvalues after sorting\n",
    "    (numpy array of floats)          : Matrix of eigenvectors after sorting\n",
    "    \"\"\"\n",
    "\n",
    "    index = np.flip(np.argsort(evals))\n",
    "    if n_components is not None:\n",
    "        index = index[:n_components]\n",
    "    evals = evals[index]\n",
    "    evectors = evectors[:, index]\n",
    "#     if evals.shape[0] == 2:\n",
    "#         if np.arccos(np.matmul(evectors[:, 0],\n",
    "#                            1 / np.sqrt(2) * np.array([1, 1]))) > np.pi / 2: evectors[:, 0] = -evectors[:, 0]\n",
    "#         if np.arccos(np.matmul(evectors[:, 1],\n",
    "#                            1 / np.sqrt(2) * np.array([-1, 1]))) > np.pi / 2:evectors[:, 1] = -evectors[:, 1]\n",
    "    return evals, evectors\n",
    "\n",
    "def change_of_basis(X, W):\n",
    "    \"\"\"\n",
    "    Projects data onto a new basis.\n",
    "\n",
    "    Args:\n",
    "    X (numpy array of floats) : Data matrix each column corresponding to a\n",
    "                                different random variable\n",
    "    W (numpy array of floats) : new orthonormal basis columns correspond to\n",
    "                                basis vectors\n",
    "\n",
    "    Returns:\n",
    "    (numpy array of floats)   : Data matrix expressed in new basis\n",
    "    \"\"\"\n",
    "\n",
    "    Y = np.matmul(X, W)\n",
    "    return Y\n",
    "\n",
    "\n",
    "def pca(X, n_components):\n",
    "    \"\"\"\n",
    "    Performs PCA on multivariate data.\n",
    "    Args:\n",
    "    X (numpy array of floats) : Data matrix each column corresponds to a\n",
    "                                different random variable\n",
    "    Returns:\n",
    "    (numpy array of floats)   : Data projected onto the new basis\n",
    "    (numpy array of floats)   : Vector of eigenvalues\n",
    "    (numpy array of floats)   : Corresponding matrix of eigenvectors\n",
    "    \"\"\"\n",
    "\n",
    "    # Subtract the mean of X\n",
    "    X = X - np.mean(X, axis=0)\n",
    "    # Calculate the sample covariance matrix\n",
    "    cov_matrix = get_sample_cov_matrix(X)\n",
    "    # Calculate the eigenvalues and eigenvectors\n",
    "    evals, evectors = np.linalg.eigh(cov_matrix)\n",
    "    # Sort the eigenvalues in descending order\n",
    "    evals, evectors = sort_evals_descending(evals, evectors, n_components)\n",
    "    # Project the data onto the new eigenvector basis\n",
    "    score = change_of_basis(X, evectors)\n",
    "\n",
    "    return score, evectors, evals"
   ]
  },
  {
   "cell_type": "markdown",
   "id": "personalized-integral",
   "metadata": {},
   "source": [
    "#### reduce dcc matrix size"
   ]
  },
  {
   "cell_type": "code",
   "execution_count": 14,
   "id": "exterior-rapid",
   "metadata": {},
   "outputs": [],
   "source": [
    "# helper functions to load mat\n",
    "import scipy.io as spio\n",
    "import numpy as np\n",
    "\n",
    "\n",
    "def loadmat(filename):\n",
    "    '''\n",
    "    this function should be called instead of direct spio.loadmat\n",
    "    as it cures the problem of not properly recovering python dictionaries\n",
    "    from mat files. It calls the function check keys to cure all entries\n",
    "    which are still mat-objects\n",
    "    '''\n",
    "    def _check_keys(d):\n",
    "        '''\n",
    "        checks if entries in dictionary are mat-objects. If yes\n",
    "        todict is called to change them to nested dictionaries\n",
    "        '''\n",
    "        for key in d:\n",
    "            if isinstance(d[key], spio.matlab.mio5_params.mat_struct):\n",
    "                d[key] = _todict(d[key])\n",
    "        return d\n",
    "\n",
    "    def _todict(matobj):\n",
    "        '''\n",
    "        A recursive function which constructs from matobjects nested dictionaries\n",
    "        '''\n",
    "        d = {}\n",
    "        for strg in matobj._fieldnames:\n",
    "            elem = matobj.__dict__[strg]\n",
    "            if isinstance(elem, spio.matlab.mio5_params.mat_struct):\n",
    "                d[strg] = _todict(elem)\n",
    "            elif isinstance(elem, np.ndarray):\n",
    "                d[strg] = _tolist(elem)\n",
    "            else:\n",
    "                d[strg] = elem\n",
    "        return d\n",
    "\n",
    "    def _tolist(ndarray):\n",
    "        '''\n",
    "        A recursive function which constructs lists from cellarrays\n",
    "        (which are loaded as numpy ndarrays), recursing into the elements\n",
    "        if they contain matobjects.\n",
    "        '''\n",
    "        elem_list = []\n",
    "        for sub_elem in ndarray:\n",
    "            if isinstance(sub_elem, spio.matlab.mio5_params.mat_struct):\n",
    "                elem_list.append(_todict(sub_elem))\n",
    "            elif isinstance(sub_elem, np.ndarray):\n",
    "                elem_list.append(_tolist(sub_elem))\n",
    "            else:\n",
    "                elem_list.append(sub_elem)\n",
    "        return elem_list\n",
    "    data = spio.loadmat(filename, struct_as_record=False, squeeze_me=True)\n",
    "    return _check_keys(data)"
   ]
  },
  {
   "cell_type": "code",
   "execution_count": 81,
   "id": "juvenile-dispute",
   "metadata": {},
   "outputs": [],
   "source": [
    "main_mat = './data/whole_participants/FC_and_pain/study3.mat'"
   ]
  },
  {
   "cell_type": "code",
   "execution_count": 82,
   "id": "actual-laptop",
   "metadata": {},
   "outputs": [],
   "source": [
    "m = loadmat(main_mat)"
   ]
  },
  {
   "cell_type": "code",
   "execution_count": 83,
   "id": "superior-diabetes",
   "metadata": {},
   "outputs": [
    {
     "name": "stdout",
     "output_type": "stream",
     "text": [
      "REST\n",
      "CAPS\n",
      "QUIN\n",
      "ODOR\n"
     ]
    }
   ],
   "source": [
    "# reduce size of dcc\n",
    "m['dcc_reduced'] = {}\n",
    "for key, item in m['dcc'].items():\n",
    "    print(key)\n",
    "    tmp_ls = []\n",
    "    for subj in range(len(item)):\n",
    "        tmp_ls.append(item[subj][::100])\n",
    "    m['dcc_reduced'][key] = tmp_ls"
   ]
  },
  {
   "cell_type": "code",
   "execution_count": 84,
   "id": "secure-difficulty",
   "metadata": {},
   "outputs": [],
   "source": [
    "mr = {'dcc_reduced':m['dcc_reduced'], 'pain':m['pain']}"
   ]
  },
  {
   "cell_type": "code",
   "execution_count": 85,
   "id": "minus-hollow",
   "metadata": {},
   "outputs": [],
   "source": [
    "import pickle\n",
    "pickle.dump(mr,open('study3_reduced.p','wb'))"
   ]
  },
  {
   "cell_type": "code",
   "execution_count": null,
   "id": "scientific-astronomy",
   "metadata": {},
   "outputs": [],
   "source": []
  }
 ],
 "metadata": {
  "kernelspec": {
   "display_name": "Python 3",
   "language": "python",
   "name": "python3"
  },
  "language_info": {
   "codemirror_mode": {
    "name": "ipython",
    "version": 3
   },
   "file_extension": ".py",
   "mimetype": "text/x-python",
   "name": "python",
   "nbconvert_exporter": "python",
   "pygments_lexer": "ipython3",
   "version": "3.8.5"
  }
 },
 "nbformat": 4,
 "nbformat_minor": 5
}
